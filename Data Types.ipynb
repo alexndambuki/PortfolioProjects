{
 "cells": [
  {
   "cell_type": "code",
   "execution_count": 2,
   "id": "0646e50f",
   "metadata": {},
   "outputs": [
    {
     "data": {
      "text/plain": [
       "bool"
      ]
     },
     "execution_count": 2,
     "metadata": {},
     "output_type": "execute_result"
    }
   ],
   "source": [
    "#Boolean\n",
    "type(1 > 5)"
   ]
  },
  {
   "cell_type": "code",
   "execution_count": 3,
   "id": "1bae908b",
   "metadata": {},
   "outputs": [
    {
     "data": {
      "text/plain": [
       "False"
      ]
     },
     "execution_count": 3,
     "metadata": {},
     "output_type": "execute_result"
    }
   ],
   "source": [
    "1 > 5"
   ]
  },
  {
   "cell_type": "code",
   "execution_count": 4,
   "id": "b1a4e999",
   "metadata": {},
   "outputs": [
    {
     "data": {
      "text/plain": [
       "False"
      ]
     },
     "execution_count": 4,
     "metadata": {},
     "output_type": "execute_result"
    }
   ],
   "source": [
    "1 > 1"
   ]
  },
  {
   "cell_type": "code",
   "execution_count": 5,
   "id": "752980fc",
   "metadata": {},
   "outputs": [
    {
     "data": {
      "text/plain": [
       "'single Quote'"
      ]
     },
     "execution_count": 5,
     "metadata": {},
     "output_type": "execute_result"
    }
   ],
   "source": [
    "#Strings\n",
    "\n",
    "'single Quote'"
   ]
  },
  {
   "cell_type": "code",
   "execution_count": 14,
   "id": "41252d77",
   "metadata": {},
   "outputs": [
    {
     "data": {
      "text/plain": [
       "'Double Quote'"
      ]
     },
     "execution_count": 14,
     "metadata": {},
     "output_type": "execute_result"
    }
   ],
   "source": [
    "\"Double Quote\""
   ]
  },
  {
   "cell_type": "code",
   "execution_count": 15,
   "id": "476be991",
   "metadata": {},
   "outputs": [],
   "source": [
    "multiline = \"\"\"\n",
    "this ice cream cone \n",
    "has quenched my thirst,\n",
    "now on onwards I go forth \n",
    "to tame my lust.\n",
    "\"\"\""
   ]
  },
  {
   "cell_type": "code",
   "execution_count": 16,
   "id": "b8aa170a",
   "metadata": {},
   "outputs": [
    {
     "name": "stdout",
     "output_type": "stream",
     "text": [
      "\n",
      "this ice cream cone \n",
      "has quenched my thirst,\n",
      "now on onwards I go forth \n",
      "to tame my lust.\n",
      "\n"
     ]
    }
   ],
   "source": [
    "print(multiline)"
   ]
  },
  {
   "cell_type": "code",
   "execution_count": 17,
   "id": "53bb1961",
   "metadata": {},
   "outputs": [
    {
     "data": {
      "text/plain": [
       "str"
      ]
     },
     "execution_count": 17,
     "metadata": {},
     "output_type": "execute_result"
    }
   ],
   "source": [
    "type(multiline)"
   ]
  },
  {
   "cell_type": "code",
   "execution_count": null,
   "id": "9fa88027",
   "metadata": {},
   "outputs": [],
   "source": [
    "'I've always wanted to eat a ton of meat."
   ]
  },
  {
   "cell_type": "code",
   "execution_count": 20,
   "id": "263e9a71",
   "metadata": {},
   "outputs": [],
   "source": [
    "#indexing\n",
    "\n",
    "a = 'Hello World!'"
   ]
  },
  {
   "cell_type": "code",
   "execution_count": 24,
   "id": "79de0d18",
   "metadata": {},
   "outputs": [
    {
     "name": "stdout",
     "output_type": "stream",
     "text": [
      "llo W\n"
     ]
    }
   ],
   "source": [
    "print(a[2:7]) "
   ]
  },
  {
   "cell_type": "code",
   "execution_count": 25,
   "id": "18ed7699",
   "metadata": {},
   "outputs": [
    {
     "data": {
      "text/plain": [
       "'Hello World!Hello World!'"
      ]
     },
     "execution_count": 25,
     "metadata": {},
     "output_type": "execute_result"
    }
   ],
   "source": [
    "a+a"
   ]
  },
  {
   "cell_type": "code",
   "execution_count": 26,
   "id": "158f9a36",
   "metadata": {},
   "outputs": [
    {
     "data": {
      "text/plain": [
       "'Hello World!Hello World!Hello World!Hello World!Hello World!Hello World!'"
      ]
     },
     "execution_count": 26,
     "metadata": {},
     "output_type": "execute_result"
    }
   ],
   "source": [
    "a*6"
   ]
  },
  {
   "cell_type": "code",
   "execution_count": 28,
   "id": "135df7c3",
   "metadata": {},
   "outputs": [
    {
     "data": {
      "text/plain": [
       "[1, 2, 3]"
      ]
     },
     "execution_count": 28,
     "metadata": {},
     "output_type": "execute_result"
    }
   ],
   "source": [
    "#lists\n",
    "\n",
    "[1,2,3]"
   ]
  },
  {
   "cell_type": "code",
   "execution_count": 29,
   "id": "cad2daae",
   "metadata": {},
   "outputs": [
    {
     "data": {
      "text/plain": [
       "['cookie dough', 'stwaberry', 'punk']"
      ]
     },
     "execution_count": 29,
     "metadata": {},
     "output_type": "execute_result"
    }
   ],
   "source": [
    "['cookie dough', 'stwaberry','punk']"
   ]
  },
  {
   "cell_type": "code",
   "execution_count": 31,
   "id": "2cc4b1f9",
   "metadata": {},
   "outputs": [
    {
     "data": {
      "text/plain": [
       "['vanilla', 3, ['scoops', 'spoon'], True]"
      ]
     },
     "execution_count": 31,
     "metadata": {},
     "output_type": "execute_result"
    }
   ],
   "source": [
    "['vanilla', 3, ['scoops', 'spoon'], True]"
   ]
  },
  {
   "cell_type": "code",
   "execution_count": 33,
   "id": "d840b2ab",
   "metadata": {},
   "outputs": [
    {
     "data": {
      "text/plain": [
       "['cookie dough', 'stwaberry', 'punk', 'Salted carmel']"
      ]
     },
     "execution_count": 33,
     "metadata": {},
     "output_type": "execute_result"
    }
   ],
   "source": [
    "ice_cream = ['cookie dough', 'stwaberry','punk']\n",
    "ice_cream.append('Salted carmel')\n",
    "ice_cream"
   ]
  },
  {
   "cell_type": "code",
   "execution_count": 35,
   "id": "196c5bb4",
   "metadata": {},
   "outputs": [
    {
     "data": {
      "text/plain": [
       "['peach butter', 'stwaberry', 'punk', 'Salted carmel']"
      ]
     },
     "execution_count": 35,
     "metadata": {},
     "output_type": "execute_result"
    }
   ],
   "source": [
    "ice_cream[0] = 'peach butter'\n",
    "ice_cream"
   ]
  },
  {
   "cell_type": "code",
   "execution_count": 36,
   "id": "5d5b1042",
   "metadata": {},
   "outputs": [],
   "source": [
    "nest_list = ['vanilla', 3, ['scoops', 'spoon'], True]"
   ]
  },
  {
   "cell_type": "code",
   "execution_count": null,
   "id": "dc6be0de",
   "metadata": {},
   "outputs": [],
   "source": [
    "#tuple"
   ]
  },
  {
   "cell_type": "code",
   "execution_count": 44,
   "id": "65ad7522",
   "metadata": {},
   "outputs": [],
   "source": [
    "tuple_scoops = (1,2,3,2,1)"
   ]
  },
  {
   "cell_type": "code",
   "execution_count": 46,
   "id": "c6801bb2",
   "metadata": {},
   "outputs": [
    {
     "data": {
      "text/plain": [
       "tuple"
      ]
     },
     "execution_count": 46,
     "metadata": {},
     "output_type": "execute_result"
    }
   ],
   "source": [
    "type(tuple_scoops)"
   ]
  },
  {
   "cell_type": "code",
   "execution_count": null,
   "id": "ac7bf60b",
   "metadata": {},
   "outputs": [],
   "source": [
    "tuple_scoops[0]"
   ]
  },
  {
   "cell_type": "code",
   "execution_count": 47,
   "id": "2383426b",
   "metadata": {},
   "outputs": [
    {
     "ename": "AttributeError",
     "evalue": "'tuple' object has no attribute 'append'",
     "output_type": "error",
     "traceback": [
      "\u001b[1;31m---------------------------------------------------------------------------\u001b[0m",
      "\u001b[1;31mAttributeError\u001b[0m                            Traceback (most recent call last)",
      "Cell \u001b[1;32mIn[47], line 1\u001b[0m\n\u001b[1;32m----> 1\u001b[0m tuple_scoops\u001b[38;5;241m.\u001b[39mappend(\u001b[38;5;241m3\u001b[39m)\n",
      "\u001b[1;31mAttributeError\u001b[0m: 'tuple' object has no attribute 'append'"
     ]
    }
   ],
   "source": [
    "tuple_scoops.append(3)"
   ]
  },
  {
   "cell_type": "code",
   "execution_count": 51,
   "id": "34b1b0e9",
   "metadata": {},
   "outputs": [],
   "source": [
    "#sets\n",
    "\n",
    "\n",
    "\n",
    "daily_pints = {1,2,3}"
   ]
  },
  {
   "cell_type": "code",
   "execution_count": 52,
   "id": "aa8ced88",
   "metadata": {},
   "outputs": [
    {
     "data": {
      "text/plain": [
       "set"
      ]
     },
     "execution_count": 52,
     "metadata": {},
     "output_type": "execute_result"
    }
   ],
   "source": [
    "type(daily_pints)"
   ]
  },
  {
   "cell_type": "code",
   "execution_count": 53,
   "id": "3aef841a",
   "metadata": {},
   "outputs": [
    {
     "name": "stdout",
     "output_type": "stream",
     "text": [
      "{1, 2, 3}\n"
     ]
    }
   ],
   "source": [
    "print(daily_pints)"
   ]
  },
  {
   "cell_type": "code",
   "execution_count": 54,
   "id": "18871228",
   "metadata": {},
   "outputs": [
    {
     "name": "stdout",
     "output_type": "stream",
     "text": [
      "{32, 1, 2, 3, 4, 34, 5, 6, 42, 77}\n"
     ]
    }
   ],
   "source": [
    "daily_pints_log = {1,2,32,2,3,4,2,3,42,34,5,6,77,3,6}\n",
    "\n",
    "print(daily_pints_log)"
   ]
  },
  {
   "cell_type": "code",
   "execution_count": 55,
   "id": "fbc871f4",
   "metadata": {},
   "outputs": [],
   "source": [
    "wifes_daily_pints_log = {1,2,3,4,5,6,7,8,9,121,3,54,67}"
   ]
  },
  {
   "cell_type": "code",
   "execution_count": 56,
   "id": "a9b6f2d6",
   "metadata": {},
   "outputs": [
    {
     "name": "stdout",
     "output_type": "stream",
     "text": [
      "{1, 2, 3, 4, 5, 6, 7, 8, 9, 67, 77, 32, 34, 42, 54, 121}\n"
     ]
    }
   ],
   "source": [
    "print(daily_pints_log | wifes_daily_pints_log)"
   ]
  },
  {
   "cell_type": "code",
   "execution_count": null,
   "id": "d1709503",
   "metadata": {},
   "outputs": [],
   "source": [
    "wifes_daily_pints_log"
   ]
  },
  {
   "cell_type": "code",
   "execution_count": 57,
   "id": "6e663f64",
   "metadata": {},
   "outputs": [
    {
     "name": "stdout",
     "output_type": "stream",
     "text": [
      "{1, 2, 3, 4, 5, 6}\n"
     ]
    }
   ],
   "source": [
    "print(daily_pints_log & wifes_daily_pints_log)"
   ]
  },
  {
   "cell_type": "code",
   "execution_count": 59,
   "id": "93d62d9e",
   "metadata": {},
   "outputs": [
    {
     "name": "stdout",
     "output_type": "stream",
     "text": [
      "{67, 7, 8, 9, 54, 121}\n"
     ]
    }
   ],
   "source": [
    "print(wifes_daily_pints_log - daily_pints_log)"
   ]
  },
  {
   "cell_type": "code",
   "execution_count": 60,
   "id": "d06fe358",
   "metadata": {},
   "outputs": [
    {
     "name": "stdout",
     "output_type": "stream",
     "text": [
      "{32, 34, 67, 7, 8, 9, 42, 77, 54, 121}\n"
     ]
    }
   ],
   "source": [
    "print(wifes_daily_pints_log ^ daily_pints_log)"
   ]
  },
  {
   "cell_type": "code",
   "execution_count": 63,
   "id": "76b6529e",
   "metadata": {},
   "outputs": [],
   "source": [
    "#dictonaries\n",
    "#Key/Value pair\n",
    "\n",
    "dict_cream = {'name': 'Alex Ndambuki', 'weekly intake' : 5, 'Favorite Meats': ['Sirloin', 'Ham']}\n",
    "\n",
    "\n",
    "\n"
   ]
  },
  {
   "cell_type": "code",
   "execution_count": 64,
   "id": "4efd0a68",
   "metadata": {},
   "outputs": [
    {
     "data": {
      "text/plain": [
       "dict"
      ]
     },
     "execution_count": 64,
     "metadata": {},
     "output_type": "execute_result"
    }
   ],
   "source": [
    "type(dict_cream)"
   ]
  },
  {
   "cell_type": "code",
   "execution_count": 65,
   "id": "6bddf7f6",
   "metadata": {},
   "outputs": [
    {
     "name": "stdout",
     "output_type": "stream",
     "text": [
      "{'name': 'Alex Ndambuki', 'weekly intake': 5, 'Favorite Meats': ['Sirloin', 'Ham']}\n"
     ]
    }
   ],
   "source": [
    "print(dict_cream)"
   ]
  },
  {
   "cell_type": "code",
   "execution_count": 66,
   "id": "32fceb0b",
   "metadata": {},
   "outputs": [
    {
     "data": {
      "text/plain": [
       "dict_values(['Alex Ndambuki', 5, ['Sirloin', 'Ham']])"
      ]
     },
     "execution_count": 66,
     "metadata": {},
     "output_type": "execute_result"
    }
   ],
   "source": [
    "dict_cream.values()"
   ]
  },
  {
   "cell_type": "code",
   "execution_count": 67,
   "id": "51241a2d",
   "metadata": {},
   "outputs": [
    {
     "data": {
      "text/plain": [
       "dict_keys(['name', 'weekly intake', 'Favorite Meats'])"
      ]
     },
     "execution_count": 67,
     "metadata": {},
     "output_type": "execute_result"
    }
   ],
   "source": [
    "dict_cream.keys()"
   ]
  },
  {
   "cell_type": "code",
   "execution_count": 68,
   "id": "0c7a3007",
   "metadata": {},
   "outputs": [
    {
     "data": {
      "text/plain": [
       "dict_items([('name', 'Alex Ndambuki'), ('weekly intake', 5), ('Favorite Meats', ['Sirloin', 'Ham'])])"
      ]
     },
     "execution_count": 68,
     "metadata": {},
     "output_type": "execute_result"
    }
   ],
   "source": [
    "dict_cream.items()"
   ]
  },
  {
   "cell_type": "code",
   "execution_count": 69,
   "id": "00b9a229",
   "metadata": {},
   "outputs": [
    {
     "data": {
      "text/plain": [
       "'Alex Ndambuki'"
      ]
     },
     "execution_count": 69,
     "metadata": {},
     "output_type": "execute_result"
    }
   ],
   "source": [
    "dict_cream['name']"
   ]
  },
  {
   "cell_type": "code",
   "execution_count": 70,
   "id": "3c598caa",
   "metadata": {},
   "outputs": [
    {
     "name": "stdout",
     "output_type": "stream",
     "text": [
      "{'name': 'Joy mbuche', 'weekly intake': 5, 'Favorite Meats': ['Sirloin', 'Ham']}\n"
     ]
    }
   ],
   "source": [
    "dict_cream['name'] = 'Joy mbuche'\n",
    "\n",
    "print(dict_cream)"
   ]
  },
  {
   "cell_type": "code",
   "execution_count": 73,
   "id": "9e472089",
   "metadata": {},
   "outputs": [
    {
     "name": "stdout",
     "output_type": "stream",
     "text": [
      "{'name': 'Joy mbuche', 'weekly intake': 5, 'Favorite Meats': ['Sirloin', 'Ham'], 'weight': 98}\n"
     ]
    }
   ],
   "source": [
    "dict_cream.update({'name': 'Joy mbuche', 'weekly intake': 5, 'weight': 98})\n",
    "\n",
    "\n",
    "print(dict_cream)"
   ]
  },
  {
   "cell_type": "code",
   "execution_count": 74,
   "id": "603f1c44",
   "metadata": {},
   "outputs": [
    {
     "name": "stdout",
     "output_type": "stream",
     "text": [
      "{'name': 'Joy mbuche', 'weekly intake': 5, 'Favorite Meats': ['Sirloin', 'Ham']}\n"
     ]
    }
   ],
   "source": [
    "del dict_cream['weight']\n",
    "\n",
    "print(dict_cream)"
   ]
  },
  {
   "cell_type": "code",
   "execution_count": null,
   "id": "18c21ce0",
   "metadata": {},
   "outputs": [],
   "source": []
  }
 ],
 "metadata": {
  "kernelspec": {
   "display_name": "Python 3 (ipykernel)",
   "language": "python",
   "name": "python3"
  },
  "language_info": {
   "codemirror_mode": {
    "name": "ipython",
    "version": 3
   },
   "file_extension": ".py",
   "mimetype": "text/x-python",
   "name": "python",
   "nbconvert_exporter": "python",
   "pygments_lexer": "ipython3",
   "version": "3.11.4"
  }
 },
 "nbformat": 4,
 "nbformat_minor": 5
}
