{
 "cells": [
  {
   "cell_type": "code",
   "execution_count": 2,
   "id": "d1cf5440",
   "metadata": {},
   "outputs": [
    {
     "name": "stdout",
     "output_type": "stream",
     "text": [
      "it worked\n"
     ]
    }
   ],
   "source": [
    "if 25 > 10:\n",
    "    print('it worked')"
   ]
  },
  {
   "cell_type": "code",
   "execution_count": 8,
   "id": "48f409d9",
   "metadata": {},
   "outputs": [
    {
     "name": "stdout",
     "output_type": "stream",
     "text": [
      "it worked!\n"
     ]
    }
   ],
   "source": [
    "if 25 > 10:\n",
    "    print('it worked!')\n",
    "else:\n",
    "        print('it didnt work..')"
   ]
  },
  {
   "cell_type": "code",
   "execution_count": 11,
   "id": "e18cbea6",
   "metadata": {},
   "outputs": [
    {
     "name": "stdout",
     "output_type": "stream",
     "text": [
      "Elif worked!\n"
     ]
    }
   ],
   "source": [
    "if 25 < 10:\n",
    "    print('it worked!')\n",
    "elif 25 < 30:\n",
    "        print('Elif worked!')\n",
    "else:\n",
    "        print('it didnt work..')"
   ]
  },
  {
   "cell_type": "code",
   "execution_count": null,
   "id": "44d50818",
   "metadata": {},
   "outputs": [],
   "source": [
    "if 25 < 10:\n",
    "    print('it worked!')\n",
    "elif 25 < 20:\n",
    "        print('Elif worked!')\n",
    "elif 25 < 21:\n",
    "        print('Elif 2 worked!')\n",
    "elif 25 < 40:\n",
    "        print('Elif 3 worked!')\n",
    "elif 25 < 50:\n",
    "        print('Elif 4 worked!')\n",
    "else:\n",
    "        print('it didnt work..')"
   ]
  },
  {
   "cell_type": "code",
   "execution_count": null,
   "id": "6b8e84c9",
   "metadata": {},
   "outputs": [],
   "source": []
  },
  {
   "cell_type": "code",
   "execution_count": null,
   "id": "7f2fe421",
   "metadata": {},
   "outputs": [],
   "source": []
  },
  {
   "cell_type": "code",
   "execution_count": null,
   "id": "715016b8",
   "metadata": {},
   "outputs": [],
   "source": []
  },
  {
   "cell_type": "code",
   "execution_count": null,
   "id": "c2d5e1c8",
   "metadata": {},
   "outputs": [],
   "source": []
  },
  {
   "cell_type": "code",
   "execution_count": null,
   "id": "e9ad91e1",
   "metadata": {},
   "outputs": [],
   "source": []
  },
  {
   "cell_type": "code",
   "execution_count": null,
   "id": "39ee983b",
   "metadata": {},
   "outputs": [],
   "source": []
  }
 ],
 "metadata": {
  "kernelspec": {
   "display_name": "Python 3 (ipykernel)",
   "language": "python",
   "name": "python3"
  },
  "language_info": {
   "codemirror_mode": {
    "name": "ipython",
    "version": 3
   },
   "file_extension": ".py",
   "mimetype": "text/x-python",
   "name": "python",
   "nbconvert_exporter": "python",
   "pygments_lexer": "ipython3",
   "version": "3.11.4"
  }
 },
 "nbformat": 4,
 "nbformat_minor": 5
}
