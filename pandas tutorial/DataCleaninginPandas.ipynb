{
 "cells": [
  {
   "cell_type": "code",
   "execution_count": null,
   "id": "7b67c7d1",
   "metadata": {},
   "outputs": [],
   "source": [
    "import pandas as pd"
   ]
  },
  {
   "cell_type": "code",
   "execution_count": null,
   "id": "7b740abb",
   "metadata": {},
   "outputs": [],
   "source": [
    "df = pd.read_excel(r\"C:\\Users\\lexxy\\Documents\\GitHub Repositories\\PortfolioProjects\\Pandas tutorial\\Customer Call List.xlsx\")\n",
    "df"
   ]
  },
  {
   "cell_type": "code",
   "execution_count": null,
   "id": "4c6e0771",
   "metadata": {},
   "outputs": [],
   "source": [
    "df = df.drop_duplicates()\n",
    "df"
   ]
  },
  {
   "cell_type": "code",
   "execution_count": null,
   "id": "5cdc085f",
   "metadata": {},
   "outputs": [],
   "source": [
    "df = df.drop(columns = \"Not_Useful_Column\")\n",
    "df"
   ]
  },
  {
   "cell_type": "code",
   "execution_count": null,
   "id": "d0b16344",
   "metadata": {},
   "outputs": [],
   "source": [
    "#df[\"Last_Name\"] = df[\"Last_Name\"].str.lstrip(\"/\")\n",
    "#df[\"Last_Name\"] = df[\"Last_Name\"].str.rstrip(\"_\")\n",
    "df[\"Last_Name\"]=df[\"Last_Name\"].str.strip(\"123._/\")\n",
    "df"
   ]
  },
  {
   "cell_type": "code",
   "execution_count": null,
   "id": "491d0872",
   "metadata": {},
   "outputs": [],
   "source": [
    "df"
   ]
  },
  {
   "cell_type": "code",
   "execution_count": null,
   "id": "5e6c9521",
   "metadata": {},
   "outputs": [],
   "source": [
    "#df[\"Phone_Number\"]=df[\"Phone_Number\"].str.replace('[^a-zA-Z0-9]','')\n",
    "#df[\"Phone_Number\"].apply(lambda x: str(x))\n",
    "df[\"Phone_Number\"]=df[\"Phone_Number\"].apply(lambda x: str(x))\n",
    "df[\"Phone_Number\"].apply(lambda x: x[0:3] + '-' + x[3:6] + '-'+ x[6:10])\n",
    "# df[\"Phone_Number\"]=df[\"Phone_Number\"].str.replace('nan--', '')\n",
    "# df[\"Phone_Number\"]=df[\"Phone_Number\"].str.replace('Na', '')\n",
    "# df[\"Phone_Number\"]=df[\"Phone_Number\"].str.replace('nan', '')\n",
    "# df[\"Phone_Number\"]=df[\"Phone_Number\"].str.replace('N/a', '')\n",
    "df\n"
   ]
  },
  {
   "cell_type": "code",
   "execution_count": null,
   "id": "e9fc41b1",
   "metadata": {},
   "outputs": [],
   "source": [
    "df"
   ]
  },
  {
   "cell_type": "code",
   "execution_count": null,
   "id": "20623696",
   "metadata": {},
   "outputs": [],
   "source": [
    "# df[[\"Street_Address\",\"State\", \"Zip_Code\"]] = df[\"Address\"].str.split(',',2, expand=True)\n",
    "# df"
   ]
  },
  {
   "cell_type": "code",
   "execution_count": null,
   "id": "2d2fc8d3",
   "metadata": {},
   "outputs": [],
   "source": [
    "df[\"Paying Customer\"] = df[\"Paying Customer\"].str.replace('Yes','Y')\n",
    "\n",
    "df[\"Paying Customer\"] = df[\"Paying Customer\"].str.replace('No','N')\n",
    "\n",
    "df[\"Do_Not_Contact\"] = df[\"Do_Not_Contact\"].str.replace('Yes','Y')\n",
    "\n",
    "df[\"Do_Not_Contact\"] = df[\"Do_Not_Contact\"].str.replace('No','N')\n",
    "\n",
    "df"
   ]
  },
  {
   "cell_type": "code",
   "execution_count": null,
   "id": "2286841f",
   "metadata": {},
   "outputs": [],
   "source": [
    "#df= df.replace('N/a', '')\n",
    "#df= df.replace('NaN', '')\n",
    "df=df.fillna('')\n",
    "df"
   ]
  },
  {
   "cell_type": "code",
   "execution_count": null,
   "id": "1ddb7487",
   "metadata": {},
   "outputs": [],
   "source": [
    "for x in df.index:\n",
    "    if df.loc[x, \"Do_Not_Contact\"] == 'Y':\n",
    "        df.drop(x, inplace=True )\n",
    "df"
   ]
  },
  {
   "cell_type": "code",
   "execution_count": null,
   "id": "1c6c8554",
   "metadata": {},
   "outputs": [],
   "source": [
    "for x in df.index:\n",
    "    if df.loc[x, \"Phone_Number\"] == '--':\n",
    "        df.drop(x, inplace=True )\n",
    "df\n",
    "#another way to drop null values\n",
    "#df=dfdropna(subset=\"Phone_Number\"), inplace=True)"
   ]
  },
  {
   "cell_type": "code",
   "execution_count": null,
   "id": "55bbb2f0",
   "metadata": {},
   "outputs": [],
   "source": [
    "df=df.reset_index(drop=True)\n",
    "df"
   ]
  },
  {
   "cell_type": "code",
   "execution_count": null,
   "id": "b624c1b4",
   "metadata": {},
   "outputs": [],
   "source": []
  },
  {
   "cell_type": "code",
   "execution_count": null,
   "id": "56079a73",
   "metadata": {},
   "outputs": [],
   "source": []
  },
  {
   "cell_type": "code",
   "execution_count": null,
   "id": "38f472bc",
   "metadata": {},
   "outputs": [],
   "source": []
  },
  {
   "cell_type": "code",
   "execution_count": null,
   "id": "7c39eb65",
   "metadata": {},
   "outputs": [],
   "source": []
  },
  {
   "cell_type": "code",
   "execution_count": null,
   "id": "044eaa05",
   "metadata": {},
   "outputs": [],
   "source": []
  }
 ],
 "metadata": {
  "kernelspec": {
   "display_name": "Python 3 (ipykernel)",
   "language": "python",
   "name": "python3"
  },
  "language_info": {
   "codemirror_mode": {
    "name": "ipython",
    "version": 3
   },
   "file_extension": ".py",
   "mimetype": "text/x-python",
   "name": "python",
   "nbconvert_exporter": "python",
   "pygments_lexer": "ipython3",
   "version": "3.11.4"
  }
 },
 "nbformat": 4,
 "nbformat_minor": 5
}
