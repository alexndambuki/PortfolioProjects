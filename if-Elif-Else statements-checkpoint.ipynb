{
 "cells": [
  {
   "cell_type": "code",
   "execution_count": 2,
   "id": "b7dc36d1",
   "metadata": {},
   "outputs": [
    {
     "name": "stdout",
     "output_type": "stream",
     "text": [
      "it worked\n"
     ]
    }
   ],
   "source": [
    "if 25 > 10:\n",
    "    print('it worked')"
   ]
  },
  {
   "cell_type": "code",
   "execution_count": 8,
   "id": "ed66719b",
   "metadata": {},
   "outputs": [
    {
     "name": "stdout",
     "output_type": "stream",
     "text": [
      "it worked!\n"
     ]
    }
   ],
   "source": [
    "if 25 > 10:\n",
    "    print('it worked!')\n",
    "else:\n",
    "        print('it didnt work..')"
   ]
  },
  {
   "cell_type": "code",
   "execution_count": 11,
   "id": "a066cc7b",
   "metadata": {},
   "outputs": [
    {
     "name": "stdout",
     "output_type": "stream",
     "text": [
      "Elif worked!\n"
     ]
    }
   ],
   "source": [
    "if 25 < 10:\n",
    "    print('it worked!')\n",
    "elif 25 < 30:\n",
    "        print('Elif worked!')\n",
    "else:\n",
    "        print('it didnt work..')"
   ]
  },
  {
   "cell_type": "code",
   "execution_count": 13,
   "id": "e2d0d56c",
   "metadata": {},
   "outputs": [
    {
     "name": "stdout",
     "output_type": "stream",
     "text": [
      "it worked!\n"
     ]
    }
   ],
   "source": [
    "if 25 < 10 or (1 < 3):\n",
    "    print('it worked!')\n",
    "elif 25 < 20:\n",
    "        print('Elif worked!')\n",
    "elif 25 < 21:\n",
    "        print('Elif 2 worked!')\n",
    "elif 25 < 40:\n",
    "        print('Elif 3 worked!')\n",
    "elif 25 < 50:\n",
    "        print('Elif 4 worked!')\n",
    "else:\n",
    "        print('it didnt work..')"
   ]
  },
  {
   "cell_type": "code",
   "execution_count": null,
   "id": "c51bf770",
   "metadata": {},
   "outputs": [],
   "source": []
  },
  {
   "cell_type": "code",
   "execution_count": 14,
   "id": "ff2bdc73",
   "metadata": {},
   "outputs": [
    {
     "name": "stdout",
     "output_type": "stream",
     "text": [
      "it worked!\n",
      "this nested if statement worked!\n"
     ]
    }
   ],
   "source": [
    "if 25 < 10 or (1 < 3):\n",
    "    print('it worked!')\n",
    "    if 10 > 5:\n",
    "        print('this nested if statement worked!')\n",
    "elif 25 < 20:\n",
    "        print('Elif worked!')\n",
    "elif 25 < 21:\n",
    "        print('Elif 2 worked!')\n",
    "elif 25 < 40:\n",
    "        print('Elif 3 worked!')\n",
    "elif 25 < 50:\n",
    "        print('Elif 4 worked!')\n",
    "else:\n",
    "        print('it didnt work..')"
   ]
  },
  {
   "cell_type": "code",
   "execution_count": null,
   "id": "7b0b75b7",
   "metadata": {},
   "outputs": [],
   "source": []
  },
  {
   "cell_type": "code",
   "execution_count": null,
   "id": "d7374fd5",
   "metadata": {},
   "outputs": [],
   "source": []
  },
  {
   "cell_type": "code",
   "execution_count": null,
   "id": "988d7d05",
   "metadata": {},
   "outputs": [],
   "source": []
  },
  {
   "cell_type": "code",
   "execution_count": null,
   "id": "10002bc3",
   "metadata": {},
   "outputs": [],
   "source": []
  }
 ],
 "metadata": {
  "kernelspec": {
   "display_name": "Python 3 (ipykernel)",
   "language": "python",
   "name": "python3"
  },
  "language_info": {
   "codemirror_mode": {
    "name": "ipython",
    "version": 3
   },
   "file_extension": ".py",
   "mimetype": "text/x-python",
   "name": "python",
   "nbconvert_exporter": "python",
   "pygments_lexer": "ipython3",
   "version": "3.11.4"
  }
 },
 "nbformat": 4,
 "nbformat_minor": 5
}
